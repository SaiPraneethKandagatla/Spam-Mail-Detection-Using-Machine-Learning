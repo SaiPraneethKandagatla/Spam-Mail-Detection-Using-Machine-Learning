{
  "nbformat": 4,
  "nbformat_minor": 0,
  "metadata": {
    "colab": {
      "provenance": [],
      "authorship_tag": "ABX9TyNJW0/0D/CNOrBCPe8ffN2f",
      "include_colab_link": true
    },
    "kernelspec": {
      "name": "python3",
      "display_name": "Python 3"
    },
    "language_info": {
      "name": "python"
    }
  },
  "cells": [
    {
      "cell_type": "markdown",
      "metadata": {
        "id": "view-in-github",
        "colab_type": "text"
      },
      "source": [
        "<a href=\"https://colab.research.google.com/github/SaiPraneethKandagatla/Spam-Mail-Detection-Using-Machine-Learning/blob/main/Spam_mail_detection.ipynb\" target=\"_parent\"><img src=\"https://colab.research.google.com/assets/colab-badge.svg\" alt=\"Open In Colab\"/></a>"
      ]
    },
    {
      "cell_type": "code",
      "execution_count": 1,
      "metadata": {
        "id": "6MLxZvrGvN4H"
      },
      "outputs": [],
      "source": [
        "import pandas as pd\n",
        "from sklearn.model_selection import train_test_split\n",
        "from sklearn.feature_extraction.text import CountVectorizer\n",
        "from sklearn.naive_bayes import MultinomialNB\n",
        "from sklearn.tree import DecisionTreeClassifier\n",
        "from sklearn.neighbors import KNeighborsClassifier\n",
        "from sklearn.linear_model import LinearRegression\n",
        "from sklearn.metrics import accuracy_score, classification_report"
      ]
    },
    {
      "cell_type": "code",
      "source": [
        "data = pd.read_csv('emails.csv')\n",
        "print(data.columns)"
      ],
      "metadata": {
        "colab": {
          "base_uri": "https://localhost:8080/"
        },
        "id": "e5W_WDPQv8GO",
        "outputId": "a06e885e-473c-4bbb-b397-d761264c2642"
      },
      "execution_count": 2,
      "outputs": [
        {
          "output_type": "stream",
          "name": "stdout",
          "text": [
            "Index(['text', 'spam'], dtype='object')\n"
          ]
        }
      ]
    },
    {
      "cell_type": "code",
      "source": [
        "X = data['text']\n",
        "y = data['spam']  # 1 for spam, 0 for ham"
      ],
      "metadata": {
        "id": "BmOyjPxjwLhy"
      },
      "execution_count": 4,
      "outputs": []
    },
    {
      "cell_type": "code",
      "source": [
        "# Split into train/test\n",
        "X_train, X_test, y_train, y_test = train_test_split(X, y, test_size=0.2, random_state=42)"
      ],
      "metadata": {
        "id": "tFOygsKCwX2T"
      },
      "execution_count": 5,
      "outputs": []
    },
    {
      "cell_type": "code",
      "source": [
        "# Convert text to numerical features\n",
        "vectorizer = CountVectorizer()\n",
        "X_train_counts = vectorizer.fit_transform(X_train)\n",
        "X_test_counts = vectorizer.transform(X_test)"
      ],
      "metadata": {
        "id": "YpOTbkpOwfz8"
      },
      "execution_count": 6,
      "outputs": []
    },
    {
      "cell_type": "code",
      "source": [
        "# Using Naive Bayes\n",
        "nb_model = MultinomialNB()\n",
        "nb_model.fit(X_train_counts, y_train)\n",
        "nb_predictions = nb_model.predict(X_test_counts)\n",
        "print(\"\\nNaive Bayes Report:\\n\", classification_report(y_test, nb_predictions))\n",
        "print(\"\\nNaive Bayes Accuracy:\", accuracy_score(y_test, nb_predictions))"
      ],
      "metadata": {
        "colab": {
          "base_uri": "https://localhost:8080/"
        },
        "id": "cmCBP8buwkrR",
        "outputId": "da84ecff-065d-4740-b3c7-f6164efaf161"
      },
      "execution_count": 8,
      "outputs": [
        {
          "output_type": "stream",
          "name": "stdout",
          "text": [
            "\n",
            "Naive Bayes Report:\n",
            "               precision    recall  f1-score   support\n",
            "\n",
            "           0       0.99      0.99      0.99       856\n",
            "           1       0.98      0.97      0.98       290\n",
            "\n",
            "    accuracy                           0.99      1146\n",
            "   macro avg       0.98      0.98      0.98      1146\n",
            "weighted avg       0.99      0.99      0.99      1146\n",
            "\n",
            "\n",
            "Naive Bayes Accuracy: 0.987783595113438\n"
          ]
        }
      ]
    },
    {
      "cell_type": "code",
      "source": [
        "# Using Decision Tree\n",
        "dt_model = DecisionTreeClassifier()\n",
        "dt_model.fit(X_train_counts, y_train)\n",
        "dt_predictions = dt_model.predict(X_test_counts)\n",
        "print(\"\\nDecision Tree Report:\\n\", classification_report(y_test, dt_predictions))\n",
        "print(\"\\nDecision Tree Accuracy:\", accuracy_score(y_test, dt_predictions))"
      ],
      "metadata": {
        "colab": {
          "base_uri": "https://localhost:8080/"
        },
        "id": "DYgGJ6zewvTS",
        "outputId": "dea31ab2-5519-48ea-a28f-1174025ed148"
      },
      "execution_count": 9,
      "outputs": [
        {
          "output_type": "stream",
          "name": "stdout",
          "text": [
            "\n",
            "Decision Tree Report:\n",
            "               precision    recall  f1-score   support\n",
            "\n",
            "           0       0.97      0.96      0.97       856\n",
            "           1       0.89      0.91      0.90       290\n",
            "\n",
            "    accuracy                           0.95      1146\n",
            "   macro avg       0.93      0.94      0.93      1146\n",
            "weighted avg       0.95      0.95      0.95      1146\n",
            "\n",
            "\n",
            "Decision Tree Accuracy: 0.9493891797556719\n"
          ]
        }
      ]
    },
    {
      "cell_type": "code",
      "source": [
        "# Using K-Nearest Neighbors\n",
        "knn_model = KNeighborsClassifier(n_neighbors=5)\n",
        "knn_model.fit(X_train_counts, y_train)\n",
        "knn_predictions = knn_model.predict(X_test_counts)\n",
        "print(\"\\nKNN Report:\\n\", classification_report(y_test, knn_predictions))\n",
        "print(\"\\nKNN Accuracy:\", accuracy_score(y_test, knn_predictions))"
      ],
      "metadata": {
        "colab": {
          "base_uri": "https://localhost:8080/"
        },
        "id": "ccpPl6ovw81W",
        "outputId": "fc7f89d2-affb-4ce9-862a-ecc4ed96e643"
      },
      "execution_count": 10,
      "outputs": [
        {
          "output_type": "stream",
          "name": "stdout",
          "text": [
            "\n",
            "KNN Report:\n",
            "               precision    recall  f1-score   support\n",
            "\n",
            "           0       0.90      0.98      0.94       856\n",
            "           1       0.94      0.68      0.79       290\n",
            "\n",
            "    accuracy                           0.91      1146\n",
            "   macro avg       0.92      0.83      0.86      1146\n",
            "weighted avg       0.91      0.91      0.90      1146\n",
            "\n",
            "\n",
            "KNN Accuracy: 0.9075043630017452\n"
          ]
        }
      ]
    },
    {
      "cell_type": "code",
      "source": [
        "# Using Linear Regression\n",
        "lr_model = LinearRegression()\n",
        "lr_model.fit(X_train_counts, y_train)\n",
        "lr_predictions_raw = lr_model.predict(X_test_counts)"
      ],
      "metadata": {
        "id": "PZbmLdYGxD80"
      },
      "execution_count": 11,
      "outputs": []
    },
    {
      "cell_type": "code",
      "source": [
        "# Convert regression output to binary class (0 or 1)\n",
        "lr_predictions = [1 if p > 0.5 else 0 for p in lr_predictions_raw]"
      ],
      "metadata": {
        "id": "CvB77sJ3xNqX"
      },
      "execution_count": 12,
      "outputs": []
    },
    {
      "cell_type": "code",
      "source": [
        "print(\"\\nLinear Regression Report:\\n\", classification_report(y_test, lr_predictions))\n",
        "print(\"\\nLinear Regression Accuracy:\", accuracy_score(y_test, lr_predictions))"
      ],
      "metadata": {
        "colab": {
          "base_uri": "https://localhost:8080/"
        },
        "id": "v-dmf9PxxUxi",
        "outputId": "644a8926-aabf-4afc-b660-e082655aacd3"
      },
      "execution_count": 13,
      "outputs": [
        {
          "output_type": "stream",
          "name": "stdout",
          "text": [
            "\n",
            "Linear Regression Report:\n",
            "               precision    recall  f1-score   support\n",
            "\n",
            "           0       0.95      0.96      0.95       856\n",
            "           1       0.88      0.84      0.86       290\n",
            "\n",
            "    accuracy                           0.93      1146\n",
            "   macro avg       0.91      0.90      0.91      1146\n",
            "weighted avg       0.93      0.93      0.93      1146\n",
            "\n",
            "\n",
            "Linear Regression Accuracy: 0.931064572425829\n"
          ]
        }
      ]
    }
  ]
}